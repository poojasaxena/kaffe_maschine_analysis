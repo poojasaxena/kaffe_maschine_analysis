{
 "cells": [
  {
   "cell_type": "markdown",
   "metadata": {},
   "source": [
    "# Basics"
   ]
  },
  {
   "cell_type": "markdown",
   "metadata": {},
   "source": [
    "## Import Library"
   ]
  },
  {
   "cell_type": "code",
   "execution_count": 95,
   "metadata": {
    "collapsed": true
   },
   "outputs": [],
   "source": [
    "import numpy as np\n",
    "import matplotlib.pyplot as plt\n",
    "from helper_class import *\n",
    "from nltk.tokenize import MWETokenizer\n",
    "\n",
    "from spacy.lang.de.stop_words import STOP_WORDS as de_stop"
   ]
  },
  {
   "cell_type": "code",
   "execution_count": 164,
   "metadata": {
    "collapsed": true
   },
   "outputs": [],
   "source": [
    "#! python3 -m pip install --user wordcloud "
   ]
  },
  {
   "cell_type": "markdown",
   "metadata": {},
   "source": [
    "## Dataset"
   ]
  },
  {
   "cell_type": "code",
   "execution_count": 124,
   "metadata": {
    "collapsed": false
   },
   "outputs": [
    {
     "name": "stdout",
     "output_type": "stream",
     "text": [
      "length of text_corpus, tags : 5393, 5\n"
     ]
    }
   ],
   "source": [
    "## link: https://wiki.sva.de/display/BD/CC+Internet+of+Things\n",
    "text_corpus=\"Liebe Kollegen, dies ist der Wiki-Bereich des Competence Centers Internet of Things des Fachbereichs Big Data Analytics und IoT. Hier findet ihr u.a. Infos zum Team, unserem Portfolio und den IoT Herstellern.Natürlich lebt solch ein Bereich besonders von der Kollaboration, daher bitte ich ausdrücklich um eure Mithilfe sowie Feedback durch Kommentare und FragenSVA kann für viele Anwendungsfälle Full-Stack-IoT liefern. Die Grundlage für IoT sind Geräte, die in ein IP-Netzwerk eingebunden sind. Dies können Smart Devices sein, welche bereits einen Datenaustausch ermöglichen oder Dienste bereitstellen. Wir können die Produkte unserer Kunden connectieren und so zum Teil eines Internets der Dinge machen.  Alternativ gibt es viele Geräte, welche keine IP-Kommunkiation beherrschen und bei denen es nicht sinnvoll ist eine direkte Kommunktion mit einem IP-Netzwerk zu ermöglichen, z.B. aus Sicherheitsgründen oder Leistungsbeschränkungen. In diesem Fall können IoT Gateways genutzt werden um z.B. Daten aus Produktionsnetzwerken auszulesen. Mit solchen Gateways können wir sicher und störungsfrei OT (Operational Technology)-Netzwerke auslesen,ohne diese zu stören.  IP-fähige Geräte benötigen Connectivity in Form von W-LAN oder Ethernet um zu kommunizieren. Das CC Netzwerke ist hierfür der beste Ansprechpartner. Neu im Fall IoT sind so genannte Low Power Wide Area Network Technologien (LP-WAN), wie Sigfox, LoRA und NB-IoT. Das CC IoT kann hierzu beraten und in bestimmten Fällen die Technologie liefern.Das Kernstück einer IoT-Architektur ist eine IoT-Plattform. Diese sammelt die Daten aller Geräte und versorgt alle Applikationen mit diesen, die sie benötigen. Sie ist ein zentrales Sicherheits- und Management-Tool, welches die Authentizität der Geräte sicherstellet, sämtliche Verbindungen zu Geräten und Applikationen absichert, einen Überblick über die Geräte und deren Daten ermöglicht und Updates der Geräte Software und Firmware ermöglicht. Wir können mit dem Kunden die für seinen Anwendungsfall optimale IoT Plattform wählen, diese Aufsetzen und hierzu umfassende Beratung anbieten. Die oben genannten Punkte sind das Pflichprogramm für IoT. Werden sie vernachlässigt, wird der anvisierte IoT Anwendungsfall nie über einen Prototypenstatus hinausgehen, da man bei dem Versuch zu skalieren mit ständigen Bugfixing und Performanceschwächen beschäftigt ist. Setzt man das IoT-Pflichprogramm sauber um, hat man einen managebaren Unterbau, der ohne Probleme mit den Anzahl der Geräte skaliert und die flexible Umsetzung diverser Anwendungsfälle ermöglicht. Die IoT Anwendungsfälle, oder Use-Cases sind die Kür der IoT Architektur. Sie erzeugen den erhofften Mehrwert und sind die Motivation eines jeden IoT-Projets. Am häufigsten findet man heute Use-Cases aus dem Bereich Data Science & AI. Der populärste ist Predictive Maintenance, die Vorausschauende Warung. Anhand von Mustern in den Gerätedaten wird festgestellt, ob ein Gerät künftig gewartet werden muss und wann diese Wartung zu geschehen hat. Zusammen mit dem Competence Center Data Science & AI sind wir für viele Use Cases wie Predictive Maintenance Lieferfähig. Insbesondere können wir komplexe Artificial Intelligence unmittelbar an die Geräte bringen und die Daten dort auswerten, wo sie entstehen. Digitales Enterprise Service Management kombiniert mit IoT liefert Geschäftsanwendern die Möglichkeit, auch physikalische Prozesse zu automatisieren. Zusammen mit dem Fachbereich Enterprise Service Management können wir Prozesse, in denen physikalische Geräte eine Rolle spielen, überwachen und in Digitale Serviceplattformen einbinden. Wenn IoT genutzt wird, um Fertigungsprozesse zu verbessern, spricht man von Smart Factory. Hierbei geht es neben Data Science & AI oft um die Einbindung der Daten aus dem Shop Floor in Apps, also Mobile- oder Web-Applikationen, welche aktuelle Informationen aus der Produktion liefern, Störungen anzeigen, Prozesse digitalisieren oder Fernzugriffe ermöglichen. Mit Hilfe des Competence Centers Apps and Service Development können wir für unsere Kunden Smart Factory Apps erstellen, welche als Webapplikation oder mit Mobilen Endgeräten genutzt werden können.  Jedes Element einer IoT Architektur ist angreifbar. Daher achten wir bei allen IoT Technologien und den Gesamtarchitekturen auf deren Sicherheit und Wartbarkeit. Zudem liefert die SVA in diesem Gebiet etwas ganz besonderes, da sich das Competence Center Penetration Testing auf das Hacken von IoT Geräten spezialisiert hat. IoT Usecases sind in seltenen Fällen mit vollständigen Anforderungen versehen, sollen aber möglichst schnell lauffähig gemacht werden. Wir setzen daher in unserem Vorgehen und der Auswahl der Technologien auf DevOps und stehen im engen Austausch mit dem Competence Center DevOps. Abgerundet wird das IoT Portfolio durch übergreifende  Consulting Leistungen: Wir bieten Innovationsworkshops an, um den optimalen Use Case mit unserem Kunden zu erarbeiten. Wir unterstützen unsere Kunden dabei, Ihre Prozesse mit IoT zu verbessern. Und wir entwickeln für und mit unseren Kunden ihre IoT Architektur. Weitere Informationen finden sich auf der Seite des Portfolios des CC IoT. IoT ist heute real, und auch wir als SVA können unseren Kunden neben Powerpoint-Präsentationen auch voll funktionsfähige IoT Demos liefern. Die hier aufgeführten Demos sind einsatzbereit und zu jedem Kunden transportierbar.\"\n",
    "tags=[\"cc\",\"competence center\", \"portfolio\", \"thema\", \"sva-organisation\"] \n",
    "print(f\"length of text_corpus, tags : {len(text_corpus)}, {len(tags)}\") "
   ]
  },
  {
   "cell_type": "code",
   "execution_count": 170,
   "metadata": {
    "collapsed": true
   },
   "outputs": [],
   "source": [
    "#text_corpus"
   ]
  },
  {
   "cell_type": "markdown",
   "metadata": {},
   "source": [
    "# Preprocessing"
   ]
  },
  {
   "cell_type": "code",
   "execution_count": 153,
   "metadata": {
    "collapsed": true
   },
   "outputs": [],
   "source": [
    "german_stop_words = list(de_stop)\n",
    "combine_word=[(\"competence\",\"center\"), (\"sva\",\"organisation\"), (\"internet\",\"of\",\"thing\"),\n",
    "              (\"predictive\",\"maintenance\"), (\"data\",\"science\")]\n",
    "\n",
    "tokenizer = MWETokenizer(combine_word, separator=' ')\n",
    "\n",
    "\n",
    "def stop_word_removal(text):\n",
    "    none_stop = ' '.join([w for w in text.lower().split() if not w in german_stop_words])\n",
    "    tokens   = tokenizer.tokenize(none_stop.split())\n",
    "    return tokens"
   ]
  },
  {
   "cell_type": "code",
   "execution_count": 154,
   "metadata": {
    "collapsed": true
   },
   "outputs": [],
   "source": [
    "data_clean=stop_word_removal(text_corpus)"
   ]
  },
  {
   "cell_type": "code",
   "execution_count": 169,
   "metadata": {
    "collapsed": true
   },
   "outputs": [],
   "source": [
    "#mehr_stop_words = [\"kunden\",\"\"]"
   ]
  },
  {
   "cell_type": "code",
   "execution_count": 157,
   "metadata": {
    "collapsed": false
   },
   "outputs": [
    {
     "data": {
      "text/plain": [
       "<AxesSubplot:>"
      ]
     },
     "execution_count": 157,
     "metadata": {},
     "output_type": "execute_result"
    },
    {
     "data": {
      "image/png": "[encoded data removed]",
      "text/plain": [
       "<Figure size 432x288 with 1 Axes>"
      ]
     },
     "metadata": {
      "needs_background": "light"
     },
     "output_type": "display_data"
    }
   ],
   "source": [
    "df = pd.DataFrame({'worte': pd.Series(data_clean)}) \n",
    "df['worte'].value_counts().nlargest(15).plot(kind='bar')"
   ]
  },
  {
   "cell_type": "code",
   "execution_count": 65,
   "metadata": {
    "collapsed": false
   },
   "outputs": [
    {
     "data": {
      "text/plain": [
       "['cc', 'competence center', 'portfolio', 'thema', 'sva-organisation']"
      ]
     },
     "execution_count": 65,
     "metadata": {},
     "output_type": "execute_result"
    }
   ],
   "source": [
    "tags"
   ]
  },
  {
   "cell_type": "code",
   "execution_count": null,
   "metadata": {
    "collapsed": true
   },
   "outputs": [],
   "source": [
    "### \n",
    "1. mehr text, wort frequency. \n",
    "2. clustering? intellgingenc\n",
    "3. Stop_words definieren.\n",
    "4. Coprus Text?"
   ]
  },
  {
   "cell_type": "markdown",
   "metadata": {},
   "source": [
    "# xml datein"
   ]
  },
  {
   "cell_type": "code",
   "execution_count": 151,
   "metadata": {
    "collapsed": true
   },
   "outputs": [],
   "source": [
    "import xml.etree.ElementTree as ET\n",
    "tree = ET.parse('/Users/psaxena/Downloads/Confluence-space-export-155540-10/entities.xml')\n",
    "root = tree.getroot()"
   ]
  },
  {
   "cell_type": "code",
   "execution_count": 152,
   "metadata": {
    "collapsed": false
   },
   "outputs": [
    {
     "name": "stdout",
     "output_type": "stream",
     "text": [
      "<p><ac:structured-macro ac:name=\"toc\" ac:schema-version=\"1\" ac:macro-id=\"3fbd6a6d-cf71-4c2f-9040-e188b71bdaac\" /></p><h1>Rolleninformation</h1><h2>Quelle</h2><p>Die Rolle wird durch die IAM-L&ouml;sung Okta verwaltet:</p><table class=\"wrapped\"><colgroup><col /><col /><col /><col /></colgroup><thead><tr><th style=\"text-align: left;\" colspan=\"1\"><p>Oktatenant</p></th><th style=\"text-align: left;\"><p>Oktagruppenname</p></th><th style=\"text-align: left;\"><p>Beschreibung</p></th><th style=\"text-align: left;\"><p>Link</p></th></tr></thead><tbody><tr><td style=\"text-align: left;\" colspan=\"1\">Prod</td><td style=\"text-align: left;\">role-stg-tenant-admin</td><td style=\"text-align: left;\"><span style=\"color: rgb(23,43,77);\">Global Admin in STG Tenant</span></td><td style=\"text-align: left;\"><a href=\"https://sva-cloud-admin.okta.com/admin/group/00gthxxtuVpTrm2hQ416\">https://sva-cloud-admin.okta.com/admin/group/00gthxxtuVpTrm2hQ416</a></td></tr></tbody></table><h2>Provisionierung</h2><h3>Active-Directory</h3><p><span style=\"color: rgb(23,43,77);\">Es werden keine Benutzer, Gruppen oder Berechtigungen in ein Active-Directory provisioniert<br /></span></p><p><span style=\"font-size: 16.0px;font-weight: bold;letter-spacing: -0.006em;\">O365 / Azure AD</span></p><p>In Okta zugewiesene Benutzer werden in die produktiven Azure AD Kundentenants provisioniert und berechtigt:</p><table class=\"relative-table wrapped\" style=\"width: 1230.0px;\"><colgroup><col style=\"width: 0.0px;\" /><col style=\"width: 0.0px;\" /><col style=\"width: 0.0px;\" /><col style=\"width: 0.0px;\" /><col style=\"width: 0.0px;\" /><col style=\"width: 0.0px;\" /></colgroup><thead><tr><th style=\"text-align: left;\"><p>Tenant Kundenk&uuml;rzel</p></th><th style=\"text-align: left;\"><p>Tenant ID</p></th><th style=\"text-align: left;\"><p>UPN-Suffix</p></th><th style=\"text-align: left;\" colspan=\"1\"><p>Berechtigung</p></th><th style=\"text-align: left;\"><p>Mitgliedschaft in Gruppe</p></th><th style=\"text-align: left;\" colspan=\"1\"><p>Object Id der Gruppe</p></th></tr></thead><tbody><tr><td style=\"text-align: left;\" colspan=\"1\">STG</td><td style=\"text-align: left;\" colspan=\"1\"><span style=\"color: rgb(0,0,0);\">f0e1a538-7a35-46b6-b297-4d2fa278a633</span></td><td style=\"text-align: left;\" colspan=\"1\">stg.sva-cloud.com</td><td style=\"text-align: left;\" colspan=\"1\">Global Administrator</td><td style=\"text-align: left;\" colspan=\"1\">-</td><td style=\"text-align: left;\" colspan=\"1\">-</td></tr></tbody></table><p><br /></p><p><span>Verwendung der Gruppe durch Drittsysteme</span><span><br /></span></p><ul><li>Welches Drittsystem verwendet diese Gruppe</li><li>Wie wird die Gruppe abgefragt<ul><li>Protokoll bzw. Schnittstelle (LDAP/S, Powershell, ...)</li><li>Welche Hostnnamen / Domain Controller werden angesprochen</li><li>Welcher Serviceuser wird verwendet</li></ul></li></ul><h2>Berechtigung</h2><ul><li>Beschreibung / Dokumentation der Berechtigungen in der entsprechenden Anwendung bzw. dem System</li><li>Was kann ein zugewiesener Benutzer mit der Rolle machen und wie?</li></ul>\n"
     ]
    }
   ],
   "source": [
    "for child in root:\n",
    "    if child.attrib['class'] == 'BodyContent':\n",
    "        for subchild in child:\n",
    "            if subchild.attrib['name'] == 'body':\n",
    "                print(subchild.text)\n",
    "        break"
   ]
  },
  {
   "cell_type": "code",
   "execution_count": null,
   "metadata": {
    "collapsed": true
   },
   "outputs": [],
   "source": []
  }
 ],
 "metadata": {
  "kernelspec": {
   "display_name": "Python 3",
   "language": "python",
   "name": "python3"
  },
  "language_info": {
   "codemirror_mode": {
    "name": "ipython",
    "version": 3
   },
   "file_extension": ".py",
   "mimetype": "text/x-python",
   "name": "python",
   "nbconvert_exporter": "python",
   "pygments_lexer": "ipython3",
   "version": "3.6.3"
  },
  "toc": {
   "base_numbering": 1,
   "nav_menu": {},
   "number_sections": true,
   "sideBar": true,
   "skip_h1_title": false,
   "title_cell": "Table of Contents",
   "title_sidebar": "Contents",
   "toc_cell": false,
   "toc_position": {
    "height": "calc(100% - 180px)",
    "left": "10px",
    "top": "150px",
    "width": "377.4624938964844px"
   },
   "toc_section_display": true,
   "toc_window_display": true
  }
 },
 "nbformat": 4,
 "nbformat_minor": 5
}
